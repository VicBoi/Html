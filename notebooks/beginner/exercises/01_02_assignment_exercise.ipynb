{
  "cells": [
    {
      "cell_type": "markdown",
      "metadata": {
        "id": "YnD1Zc7ZRJ54"
      },
      "source": [
        "# Assignment Exercises\n",
        "\n",
        "assigning variables should be easy. Give the variable a name relavent to the value that it will store.\n",
        "\n",
        "eg\n",
        "\n",
        "`first_name = \"Clark\"`\n",
        "\n",
        "`surname = \"Kent\"`\n",
        "\n",
        "`strength = 12`\n",
        "\n",
        "Did notice how the variable that stores a numerical value will not have quotes around it?"
      ]
    },
    {
      "cell_type": "code",
      "execution_count": null,
      "metadata": {
        "id": "NpDAnnVHRJ55"
      },
      "outputs": [],
      "source": [
        "# Assign a variable for a 4-letter name. The variable should be called first_name\n"
      ]
    },
    {
      "cell_type": "code",
      "execution_count": 19,
      "metadata": {
        "id": "KbEmP-DGRJ56"
      },
      "outputs": [],
      "source": [
        "first_name = \"Noah\"\n",
        "assert len(first_name) == 4"
      ]
    },
    {
      "cell_type": "markdown",
      "metadata": {
        "id": "oHoxwpr7RJ56"
      },
      "source": [
        "### re-assignment\n",
        "We often need to reassign variables in a program.\n",
        "\n",
        "`batman = \"Ben Afleck\"`\n",
        "\n",
        "`batman = \"Robert Pattison\"`\n"
      ]
    },
    {
      "cell_type": "code",
      "execution_count": 20,
      "metadata": {
        "id": "lg8p8TsiRJ57"
      },
      "outputs": [],
      "source": [
        "coins = 0\n",
        "# re-assign coins in a variable of the same name below with the value of 5\n",
        "coins = 5"
      ]
    },
    {
      "cell_type": "code",
      "execution_count": null,
      "metadata": {
        "id": "lLW8nle_RJ57"
      },
      "outputs": [],
      "source": [
        "assert coins == 5"
      ]
    },
    {
      "cell_type": "markdown",
      "metadata": {
        "id": "V07ccTf2RJ57"
      },
      "source": [
        "### What was there plus 1\n",
        "When we update (or re-assign) a variable, it doesn't aways make sense to say what the new value should be.\n",
        "\n",
        "Its more likely that you will need to increase the value by a set value. For example in a game such as Mario Bros, the variable coins should inrease by 1 if a coin is collected.\n",
        "\n",
        "We do this by :\n",
        "\n",
        "`coins = coins + 1`\n",
        "\n",
        "Another way of doing this is :\n",
        "\n",
        "`coins += 1`\n"
      ]
    },
    {
      "cell_type": "code",
      "execution_count": null,
      "metadata": {
        "id": "HF4-jWnrRJ57"
      },
      "outputs": [],
      "source": [
        "# assign a variable called points equal to 0 and a variable called lives equal to 3\n"
      ]
    },
    {
      "cell_type": "code",
      "execution_count": 21,
      "metadata": {
        "id": "-aIk0RKqRJ58"
      },
      "outputs": [],
      "source": [
        "points = 0\n",
        "lives = 3\n",
        "\n",
        "assert points == 0\n",
        "assert lives == 3"
      ]
    },
    {
      "cell_type": "code",
      "execution_count": null,
      "metadata": {
        "id": "xKB0RKJ4RJ58"
      },
      "outputs": [],
      "source": [
        "# re-assign lives by increasing the value by 1 and re-assign points by increasing by 5.\n"
      ]
    },
    {
      "cell_type": "code",
      "execution_count": 22,
      "metadata": {
        "id": "mJbxjm5WRJ58"
      },
      "outputs": [],
      "source": [
        "points = 0\n",
        "lives = 3\n",
        "lives = lives + 1\n",
        "points = points +5\n",
        "assert points == 5\n",
        "assert lives == 4"
      ]
    },
    {
      "cell_type": "code",
      "execution_count": 23,
      "metadata": {
        "id": "5LWN3v1qRJ59"
      },
      "outputs": [],
      "source": [
        "# decrease lives by 2 and increase points by 3\n",
        "\n",
        "points = 0\n",
        "lives = 3\n",
        "lives = lives + 1\n",
        "points = points +5\n",
        "lives = lives -2\n",
        "points = points + 3"
      ]
    },
    {
      "cell_type": "code",
      "execution_count": null,
      "metadata": {
        "id": "4TMe60G9RJ59"
      },
      "outputs": [],
      "source": [
        "assert points == 8\n",
        "assert lives == 2"
      ]
    },
    {
      "cell_type": "code",
      "execution_count": null,
      "metadata": {
        "id": "leCFLKloRJ59"
      },
      "outputs": [],
      "source": [
        "# decrease lives by half\n"
      ]
    },
    {
      "cell_type": "code",
      "execution_count": 24,
      "metadata": {
        "id": "TrpK6lr2RJ59"
      },
      "outputs": [],
      "source": [
        "points = 0\n",
        "lives = 3\n",
        "lives = lives + 1\n",
        "points = points +5\n",
        "lives = lives -2\n",
        "points = points + 3\n",
        "lives = lives/2\n",
        "assert points == 8\n",
        "assert lives == 1"
      ]
    }
  ],
  "metadata": {
    "kernelspec": {
      "display_name": "Python 3",
      "language": "python",
      "name": "python3"
    },
    "language_info": {
      "codemirror_mode": {
        "name": "ipython",
        "version": 3
      },
      "file_extension": ".py",
      "mimetype": "text/x-python",
      "name": "python",
      "nbconvert_exporter": "python",
      "pygments_lexer": "ipython3",
      "version": "3.12.4"
    },
    "colab": {
      "provenance": []
    }
  },
  "nbformat": 4,
  "nbformat_minor": 0
}