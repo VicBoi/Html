{
  "cells": [
    {
      "cell_type": "markdown",
      "metadata": {
        "id": "BEM1HE6-dbl5"
      },
      "source": [
        "# 1. Fill the missing pieces\n",
        "Fill the `____` parts of the code below."
      ]
    },
    {
      "cell_type": "code",
      "execution_count": 1,
      "metadata": {
        "id": "6P--9818dbl6"
      },
      "outputs": [],
      "source": [
        "# Let's create an empty list\n",
        "my_list = []\n",
        "\n",
        "# Let's add some values\n",
        "my_list.append(\"Python\")\n",
        "my_list.append(\"is ok\")\n",
        "my_list.append(\"sometimes\")\n",
        "\n",
        "# Let's remove 'sometimes'\n",
        "my_list.remove(\"sometimes\")\n",
        "\n",
        "# Let's change the second item\n",
        "my_list[1] = \"is neat\""
      ]
    },
    {
      "cell_type": "code",
      "execution_count": 2,
      "metadata": {
        "editable": false,
        "id": "m6HI9HYwdbl7"
      },
      "outputs": [],
      "source": [
        "# Let's verify that it's correct\n",
        "assert my_list == [\"Python\", \"is neat\"]"
      ]
    },
    {
      "cell_type": "markdown",
      "metadata": {
        "id": "NR9kD135dbl8"
      },
      "source": [
        "# 2. Create a new list without modifiying the original one\n"
      ]
    },
    {
      "cell_type": "code",
      "execution_count": 3,
      "metadata": {
        "editable": false,
        "id": "DQw_ns09dbl8"
      },
      "outputs": [],
      "source": [
        "original = [\"I\", \"am\", \"learning\", \"hacking\", \"in\"]"
      ]
    },
    {
      "cell_type": "code",
      "execution_count": 8,
      "metadata": {
        "id": "lKeTKSSWdbl8"
      },
      "outputs": [],
      "source": [
        "# Your implementation here\n",
        "modified = original.copy()\n",
        "modified[3]=\"lists\"\n",
        "modified.append(\"Python\")"
      ]
    },
    {
      "cell_type": "code",
      "execution_count": 9,
      "metadata": {
        "editable": false,
        "id": "0TS-_7Ovdbl9"
      },
      "outputs": [],
      "source": [
        "assert original == [\"I\", \"am\", \"learning\", \"hacking\", \"in\"]\n",
        "assert modified == [\"I\", \"am\", \"learning\", \"lists\", \"in\", \"Python\"]"
      ]
    },
    {
      "cell_type": "markdown",
      "metadata": {
        "id": "UCMHwI7idbl9"
      },
      "source": [
        "# 3. Create a merged sorted list"
      ]
    },
    {
      "cell_type": "code",
      "execution_count": 10,
      "metadata": {
        "editable": false,
        "id": "VMUWVIsYdbl-"
      },
      "outputs": [],
      "source": [
        "list1 = [6, 12, 5]\n",
        "list2 = [6.2, 0, 14, 1]\n",
        "list3 = [0.9]"
      ]
    },
    {
      "cell_type": "code",
      "execution_count": 24,
      "metadata": {
        "id": "hrw7eMOOdbl-",
        "outputId": "aa3b1ea7-7cac-43de-c8c6-de362e792484",
        "colab": {
          "base_uri": "https://localhost:8080/",
          "height": 159
        }
      },
      "outputs": [
        {
          "output_type": "error",
          "ename": "TypeError",
          "evalue": "can only concatenate tuple (not \"list\") to tuple",
          "traceback": [
            "\u001b[0;31m---------------------------------------------------------------------------\u001b[0m",
            "\u001b[0;31mTypeError\u001b[0m                                 Traceback (most recent call last)",
            "\u001b[0;32m/tmp/ipython-input-2966587568.py\u001b[0m in \u001b[0;36m<cell line: 0>\u001b[0;34m()\u001b[0m\n\u001b[1;32m      1\u001b[0m \u001b[0;31m# Your implementation here\u001b[0m\u001b[0;34m\u001b[0m\u001b[0;34m\u001b[0m\u001b[0m\n\u001b[0;32m----> 2\u001b[0;31m \u001b[0mmy_list\u001b[0m \u001b[0;34m+=\u001b[0m \u001b[0mlist1\u001b[0m\u001b[0;34m\u001b[0m\u001b[0;34m\u001b[0m\u001b[0m\n\u001b[0m",
            "\u001b[0;31mTypeError\u001b[0m: can only concatenate tuple (not \"list\") to tuple"
          ]
        }
      ],
      "source": [
        "# Your implementation here\n",
        "my_list += list1"
      ]
    },
    {
      "cell_type": "code",
      "execution_count": 20,
      "metadata": {
        "editable": false,
        "id": "6D3hKADXdbl-",
        "outputId": "ee998cae-32d7-46e1-e65b-8f0f4d8531bc",
        "colab": {
          "base_uri": "https://localhost:8080/",
          "height": 176
        }
      },
      "outputs": [
        {
          "output_type": "stream",
          "name": "stdout",
          "text": [
            "([6, 12, 5], [6.2, 0, 14, 1], [0.9], [6, 12, 5], [6.2, 0, 14, 1], [0.9])\n"
          ]
        },
        {
          "output_type": "error",
          "ename": "AssertionError",
          "evalue": "",
          "traceback": [
            "\u001b[0;31m---------------------------------------------------------------------------\u001b[0m",
            "\u001b[0;31mAssertionError\u001b[0m                            Traceback (most recent call last)",
            "\u001b[0;32m/tmp/ipython-input-3914828.py\u001b[0m in \u001b[0;36m<cell line: 0>\u001b[0;34m()\u001b[0m\n\u001b[1;32m      1\u001b[0m \u001b[0mprint\u001b[0m\u001b[0;34m(\u001b[0m\u001b[0mmy_list\u001b[0m\u001b[0;34m)\u001b[0m\u001b[0;34m\u001b[0m\u001b[0;34m\u001b[0m\u001b[0m\n\u001b[0;32m----> 2\u001b[0;31m \u001b[0;32massert\u001b[0m \u001b[0mmy_list\u001b[0m \u001b[0;34m==\u001b[0m \u001b[0;34m[\u001b[0m\u001b[0;36m0\u001b[0m\u001b[0;34m,\u001b[0m\u001b[0;36m0.9\u001b[0m\u001b[0;34m,\u001b[0m\u001b[0;36m1\u001b[0m\u001b[0;34m,\u001b[0m\u001b[0;36m5\u001b[0m\u001b[0;34m,\u001b[0m\u001b[0;36m6\u001b[0m\u001b[0;34m,\u001b[0m\u001b[0;36m6.2\u001b[0m\u001b[0;34m,\u001b[0m\u001b[0;36m12\u001b[0m\u001b[0;34m,\u001b[0m\u001b[0;36m14\u001b[0m\u001b[0;34m]\u001b[0m\u001b[0;34m\u001b[0m\u001b[0;34m\u001b[0m\u001b[0m\n\u001b[0m",
            "\u001b[0;31mAssertionError\u001b[0m: "
          ]
        }
      ],
      "source": [
        "print(my_list)\n",
        "assert my_list == [0,0.9,1,5,6,6.2,12,14]"
      ]
    },
    {
      "cell_type": "markdown",
      "metadata": {
        "id": "4YriWNO1dbl_"
      },
      "source": [
        "# 4. Lists and iteration\n",
        "\n",
        "Create a loop that will cycle through each item in a list and state how many characters long each item is.\n",
        "\n",
        "The list is\n",
        "\n",
        "`computer_brands = [\"Apple\", \"Asus\", \"Dell\", \"Samsung\"]`\n",
        "\n",
        "You can use the `len()` function. Google if help is needed!"
      ]
    },
    {
      "cell_type": "code",
      "execution_count": null,
      "metadata": {
        "id": "sT9b4obZdbl_"
      },
      "outputs": [],
      "source": [
        "computer_brands = [\"Apple\", \"Asus\", \"Dell\", \"Samsung\"]\n",
        "\n",
        "# add for loop here"
      ]
    },
    {
      "cell_type": "markdown",
      "metadata": {
        "id": "4QHrJzEmdbl_"
      },
      "source": [
        "# 5. -gears of a bike\n",
        "\n",
        "ignore  2 points with the image below.\n",
        "1. in order to use correct naming conventions the arrany will be called `rings` and not `Ring`.\n",
        "2. on the 4th bullet point it mentions that the first ring is indexed as `Ring[1]`. This is wrong again. It should be `rings[0]` because we start counting with 0 in programming languages ❤.\n",
        "\n",
        "![gears of a bike](https://github.com/BethsGrammar/learn-python3/blob/master/notebooks/beginner/exercises/assets/bike_gears.PNG?raw=1)"
      ]
    },
    {
      "cell_type": "code",
      "execution_count": null,
      "metadata": {
        "id": "04Wtsowbdbl_"
      },
      "outputs": [],
      "source": [
        "rings = []\n",
        "# add your code below"
      ]
    },
    {
      "cell_type": "markdown",
      "metadata": {
        "id": "TxyLm-6tdbmA"
      },
      "source": [
        "# 6. - leap years\n",
        "In a calendar year, it is exactly 365.25 days. But, eventually, this will lead to confusion because humans normally count by exact divisibility of 1 and not with decimal points.\n",
        "\n",
        "So, to avoid the latter, it was decided to add up all 0.25 days every four-year cycle, make that year to sum up to 366 days (including February 29 as an intercalary day), thus, called a leap year and aside the other years of the four-year cycle to sum up to 365 days, not a leap year.\n",
        "\n",
        "Write a program which asks a user for the year and returns whether it is a leap year or not.\n",
        "\n",
        "**You are not allowed to use the datetime function **\n",
        "\n",
        "EXTRA brownie points for not using an if statement!\n"
      ]
    },
    {
      "cell_type": "code",
      "execution_count": null,
      "metadata": {
        "id": "T-nWDEBSdbmA"
      },
      "outputs": [],
      "source": [
        "year = 1981\n",
        "# add your code below\n"
      ]
    }
  ],
  "metadata": {
    "kernelspec": {
      "display_name": "Python 3",
      "language": "python",
      "name": "python3"
    },
    "language_info": {
      "codemirror_mode": {
        "name": "ipython",
        "version": 3
      },
      "file_extension": ".py",
      "mimetype": "text/x-python",
      "name": "python",
      "nbconvert_exporter": "python",
      "pygments_lexer": "ipython3",
      "version": "3.5.4"
    },
    "colab": {
      "provenance": []
    }
  },
  "nbformat": 4,
  "nbformat_minor": 0
}